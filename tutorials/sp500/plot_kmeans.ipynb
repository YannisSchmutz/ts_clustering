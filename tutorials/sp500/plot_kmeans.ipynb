{
 "cells": [
  {
   "cell_type": "code",
   "execution_count": 1,
   "metadata": {},
   "outputs": [],
   "source": [
    "%matplotlib inline"
   ]
  },
  {
   "cell_type": "markdown",
   "metadata": {},
   "source": [
    "\n",
    "k-means\n",
    "=======\n",
    "\n",
    "This example uses $k$-means clustering for time series. Three variants of\n",
    "the algorithm are available: standard\n",
    "Euclidean $k$-means, DBA-$k$-means (for DTW Barycenter\n",
    "Averaging [1])\n",
    "and Soft-DTW $k$-means [2].\n",
    "\n",
    "In the figure below, each row corresponds to the result of a different\n",
    "clustering. In a row, each sub-figure corresponds to a cluster.\n",
    "It represents the set\n",
    "of time series from the training set that were assigned to the considered\n",
    "cluster (in black) as well as the barycenter of the cluster (in red).\n",
    "\n",
    "A note on pre-processing\n",
    "~~~~~~~~~~~~~~~~~~~~~~~~\n",
    "\n",
    "In this example, time series are preprocessed using\n",
    "`TimeSeriesScalerMeanVariance`. This scaler is such that each output time\n",
    "series has zero mean and unit variance.\n",
    "The assumption here is that the range of a given time series is uninformative\n",
    "and one only wants to compare shapes in an amplitude-invariant manner (when\n",
    "time series are multivariate, this also rescales all modalities such that there\n",
    "will not be a single modality responsible for a large part of the variance).\n",
    "This means that one cannot scale barycenters back to data range because each\n",
    "time series is scaled independently and there is hence no such thing as an\n",
    "overall data range.\n",
    "\n",
    "[1] F. Petitjean, A. Ketterlin & P. Gancarski. A global averaging method for dynamic time warping, with applications to clustering. Pattern Recognition, Elsevier, 2011, Vol. 44, Num. 3, pp. 678-693\n",
    "[2] M. Cuturi, M. Blondel \"Soft-DTW: a Differentiable Loss Function for Time-Series,\" ICML 2017.\n"
   ]
  },
  {
   "cell_type": "code",
   "execution_count": 18,
   "metadata": {},
   "outputs": [
    {
     "name": "stdout",
     "output_type": "stream",
     "text": [
      "Soft-DTW k-means\n",
      "0.637 --> 0.458 --> "
     ]
    },
    {
     "name": "stderr",
     "output_type": "stream",
     "text": [
      "[Parallel(n_jobs=1)]: Using backend SequentialBackend with 1 concurrent workers.\n",
      "[Parallel(n_jobs=1)]: Done  50 out of  50 | elapsed:    0.0s finished\n",
      "[Parallel(n_jobs=1)]: Using backend SequentialBackend with 1 concurrent workers.\n",
      "[Parallel(n_jobs=1)]: Done 150 out of 150 | elapsed:    0.0s finished\n",
      "[Parallel(n_jobs=1)]: Using backend SequentialBackend with 1 concurrent workers.\n",
      "[Parallel(n_jobs=1)]: Done 150 out of 150 | elapsed:    0.0s finished\n",
      "[Parallel(n_jobs=1)]: Using backend SequentialBackend with 1 concurrent workers.\n",
      "[Parallel(n_jobs=1)]: Done 150 out of 150 | elapsed:    0.0s finished\n",
      "[Parallel(n_jobs=1)]: Using backend SequentialBackend with 1 concurrent workers.\n",
      "[Parallel(n_jobs=1)]: Done 150 out of 150 | elapsed:    0.0s finished\n",
      "[Parallel(n_jobs=1)]: Using backend SequentialBackend with 1 concurrent workers.\n",
      "[Parallel(n_jobs=1)]: Done 150 out of 150 | elapsed:    0.0s finished\n",
      "[Parallel(n_jobs=1)]: Using backend SequentialBackend with 1 concurrent workers.\n",
      "[Parallel(n_jobs=1)]: Done 150 out of 150 | elapsed:    0.0s finished\n"
     ]
    },
    {
     "name": "stdout",
     "output_type": "stream",
     "text": [
      "0.458 --> \n",
      "[0 0 1 0 1 0 2 0 0 1 1 1 0 0 0 1 2 0 2 1 0 1 2 0 2 1 0 1 1 2 0 2 2 0 1 2 0\n",
      " 2 0 0 0 0 0 0 0 0 1 0 1 2]\n"
     ]
    },
    {
     "data": {
      "image/png": "[encoded data removed]",
      "text/plain": [
       "<Figure size 1152x1008 with 3 Axes>"
      ]
     },
     "metadata": {
      "needs_background": "light"
     },
     "output_type": "display_data"
    }
   ],
   "source": [
    "# Author: Romain Tavenard\n",
    "# License: BSD 3 clause\n",
    "\n",
    "import numpy\n",
    "import matplotlib.pyplot as plt\n",
    "\n",
    "from tslearn.clustering import TimeSeriesKMeans\n",
    "from tslearn.datasets import CachedDatasets\n",
    "from tslearn.preprocessing import TimeSeriesScalerMeanVariance, \\\n",
    "    TimeSeriesResampler\n",
    "\n",
    "seed = 0\n",
    "numpy.random.seed(seed)\n",
    "X_train, y_train, X_test, y_test = CachedDatasets().load_dataset(\"Trace\")\n",
    "X_train = X_train[y_train < 4]  # Keep first 3 classes\n",
    "numpy.random.shuffle(X_train)\n",
    "# Keep only 50 time series\n",
    "X_train = TimeSeriesScalerMeanVariance().fit_transform(X_train[:50])\n",
    "# Make time series shorter\n",
    "X_train = TimeSeriesResampler(sz=40).fit_transform(X_train)\n",
    "sz = X_train.shape[1]\n",
    "\n",
    "\n",
    "plt.figure(figsize=(16,14))\n",
    "\n",
    "\n",
    "# DTW-k-means\n",
    "print(\"DTW k-means\")\n",
    "sdtw_km = TimeSeriesKMeans(n_clusters=3,\n",
    "                           metric=\"dtw\",\n",
    "                           verbose=True,\n",
    "                           random_state=seed)\n",
    "\n",
    "y_pred = sdtw_km.fit_predict(X_train)\n",
    "\n",
    "print(y_pred)\n",
    "\n",
    "for yi in range(3):\n",
    "    plt.subplot(3, 3, 7 + yi)\n",
    "    for xx in X_train[y_pred == yi]:\n",
    "        plt.plot(xx.ravel(), \"k-\", alpha=.2)\n",
    "    plt.plot(sdtw_km.cluster_centers_[yi].ravel(), \"r-\")\n",
    "    plt.xlim(0, sz)\n",
    "    plt.ylim(-4, 4)\n",
    "    plt.text(0.55, 0.85,'Cluster %d' % (yi + 1),\n",
    "             transform=plt.gca().transAxes)\n",
    "    if yi == 1:\n",
    "        plt.title(\"DTW $k$-means\")\n",
    "\n",
    "plt.tight_layout()\n",
    "plt.show()"
   ]
  },
  {
   "cell_type": "code",
   "execution_count": 16,
   "metadata": {},
   "outputs": [
    {
     "data": {
      "text/plain": [
       "array([ 0.68114642,  0.7094705 ,  0.6715618 ,  0.67703447,  0.67642258,\n",
       "        0.62331864,  0.70256806,  0.68982243,  0.71157632,  0.7063805 ,\n",
       "        0.75773523,  0.72400941,  0.81527198, -1.77055735, -1.96231285,\n",
       "       -1.83600844, -1.82029822, -1.81413942, -1.69354215, -1.55610528,\n",
       "       -1.34186433, -1.09134337, -0.83080799, -0.57732079, -0.31462071,\n",
       "       -0.0912683 ,  0.08470576,  0.2460494 ,  0.37819135,  0.45545944,\n",
       "        0.47244797,  0.54346845,  0.57697969,  0.61076789,  0.6109913 ,\n",
       "        0.60943497,  0.60384316,  0.62257848,  0.70468662,  0.67074622])"
      ]
     },
     "execution_count": 16,
     "metadata": {},
     "output_type": "execute_result"
    }
   ],
   "source": [
    "sdtw_km.cluster_centers_[0].ravel()"
   ]
  },
  {
   "cell_type": "code",
   "execution_count": 26,
   "metadata": {},
   "outputs": [],
   "source": [
    "foo = numpy.array([[1,2,3,4],[5,6,7,8]])"
   ]
  },
  {
   "cell_type": "code",
   "execution_count": 29,
   "metadata": {},
   "outputs": [
    {
     "data": {
      "text/plain": [
       "array([[5, 6, 7, 8]])"
      ]
     },
     "execution_count": 29,
     "metadata": {},
     "output_type": "execute_result"
    }
   ],
   "source": [
    "foo[[False, True]]"
   ]
  }
 ],
 "metadata": {
  "kernelspec": {
   "display_name": "Python 3",
   "language": "python",
   "name": "python3"
  },
  "language_info": {
   "codemirror_mode": {
    "name": "ipython",
    "version": 3
   },
   "file_extension": ".py",
   "mimetype": "text/x-python",
   "name": "python",
   "nbconvert_exporter": "python",
   "pygments_lexer": "ipython3",
   "version": "3.7.7"
  }
 },
 "nbformat": 4,
 "nbformat_minor": 1
}
